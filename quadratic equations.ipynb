{
 "cells": [
  {
   "cell_type": "code",
   "execution_count": 2,
   "metadata": {},
   "outputs": [],
   "source": [
    "import numpy as np\n",
    "import scipy as sp\n",
    "import matplotlib.pyplot as plt"
   ]
  },
  {
   "cell_type": "code",
   "execution_count": 1,
   "metadata": {},
   "outputs": [],
   "source": [
    "#  ax**2 + bx + c"
   ]
  },
  {
   "cell_type": "code",
   "execution_count": 6,
   "metadata": {},
   "outputs": [
    {
     "name": "stdout",
     "output_type": "stream",
     "text": [
      "(-1.1666666666666665+0.5527707983925666j) (-1.1666666666666665-0.5527707983925666j)\n"
     ]
    },
    {
     "name": "stderr",
     "output_type": "stream",
     "text": [
      "C:\\Users\\Chris\\anaconda3\\lib\\site-packages\\ipykernel_launcher.py:5: DeprecationWarning: scipy.sqrt is deprecated and will be removed in SciPy 2.0.0, use numpy.lib.scimath.sqrt instead\n",
      "  \"\"\"\n",
      "C:\\Users\\Chris\\anaconda3\\lib\\site-packages\\ipykernel_launcher.py:6: DeprecationWarning: scipy.sqrt is deprecated and will be removed in SciPy 2.0.0, use numpy.lib.scimath.sqrt instead\n",
      "  \n"
     ]
    }
   ],
   "source": [
    "a = 3\n",
    "b = 7 \n",
    "c = 5\n",
    "\n",
    "quadeqP = (-b+sp.sqrt(b**2 - 4*a*c)) / (2*a)\n",
    "quadeqN = (-b-sp.sqrt(b**2 - 4*a*c)) / (2*a)\n",
    "\n",
    "print(quadeqP,quadeqN) # nan = not a number\n",
    "\n"
   ]
  },
  {
   "cell_type": "code",
   "execution_count": 9,
   "metadata": {},
   "outputs": [],
   "source": [
    "# using scipy module # does not work\n",
    "# def quadeq(a,b,c):\n",
    "    \n",
    "#     # initialize\n",
    "#     out = np.zeros(2)\n",
    "    \n",
    "#     # compute\n",
    "#     out[0] = (-b+sp.sqrt(b**2 - 4*a*c)) / (2*a)\n",
    "#     out[1] = (-b-sp.sqrt(b**2 - 4*a*c)) / (2*a)"
   ]
  },
  {
   "cell_type": "code",
   "execution_count": 4,
   "metadata": {},
   "outputs": [],
   "source": [
    "# test using numpy module\n",
    "def quadeq(a,b,c):\n",
    "    \n",
    "    # initialize\n",
    "    out = np.zeros(2)\n",
    "    \n",
    "    # compute\n",
    "    out[0] = (- b + np.lib.scimath.sqrt(b**2 - 4*a*c)) / (2*a)\n",
    "    out[1] = (- b - np.lib.scimath.sqrt(b**2 - 4*a*c)) / (2*a)\n",
    "    \n",
    "    return(out)\n",
    "#     print(out[0],out[1])"
   ]
  },
  {
   "cell_type": "code",
   "execution_count": 217,
   "metadata": {},
   "outputs": [
    {
     "name": "stdout",
     "output_type": "stream",
     "text": [
      "-0.7639320225002102\n"
     ]
    }
   ],
   "source": [
    "sol = quadeq(4,6,4)\n",
    "sol\n",
    "print(sol[0])"
   ]
  },
  {
   "cell_type": "code",
   "execution_count": 180,
   "metadata": {},
   "outputs": [
    {
     "name": "stdout",
     "output_type": "stream",
     "text": [
      "[-1.43844719 -5.56155281]\n",
      "[-1.43844719 -5.56155281]\n",
      "[-1.43844719 -5.56155281]\n",
      "[-1.43844719 -5.56155281]\n",
      "[-1.43844719 -5.56155281]\n",
      "[-1.43844719 -5.56155281]\n",
      "[-1.43844719 -5.56155281]\n",
      "[-1.43844719 -5.56155281]\n",
      "[-1.43844719 -5.56155281]\n",
      "[-1.43844719 -5.56155281]\n"
     ]
    }
   ],
   "source": [
    "# tst = list(range(-5,5))\n",
    "rowCount = np.arange(-2,10)\n",
    "for i in tst:\n",
    "    sol = quadeq(rowCount[i],7,8)\n",
    "    print(sol)"
   ]
  },
  {
   "cell_type": "code",
   "execution_count": 253,
   "metadata": {},
   "outputs": [
    {
     "name": "stderr",
     "output_type": "stream",
     "text": [
      "C:\\Users\\Chris\\anaconda3\\lib\\site-packages\\ipykernel_launcher.py:8: ComplexWarning: Casting complex values to real discards the imaginary part\n",
      "  \n",
      "C:\\Users\\Chris\\anaconda3\\lib\\site-packages\\ipykernel_launcher.py:9: ComplexWarning: Casting complex values to real discards the imaginary part\n",
      "  if __name__ == '__main__':\n"
     ]
    },
    {
     "data": {
      "text/plain": [
       "(<matplotlib.image.AxesImage at 0x9352b47208>,\n",
       " <matplotlib.image.AxesImage at 0x9352b478c8>)"
      ]
     },
     "execution_count": 253,
     "metadata": {},
     "output_type": "execute_result"
    },
    {
     "data": {
      "image/png": "[encoded data removed]",
      "text/plain": [
       "<Figure size 432x288 with 1 Axes>"
      ]
     },
     "metadata": {
      "needs_background": "light"
     },
     "output_type": "display_data"
    }
   ],
   "source": [
    "# exersise.independent\n",
    "\n",
    "rowCount = np.arange(-5,5)\n",
    "colCount = np.arange(-2,11)\n",
    "a = 1\n",
    "\n",
    "M = np.zeros([len(rowCount),len(colCount)])\n",
    "\n",
    "for b in range(np.shape(M)[0]):\n",
    "    for c in range(np.shape(M)[1]):\n",
    "        sol = quadeq(1,rowCount[b],colCount[c])\n",
    "        M[b,c] = sol[0]\n",
    "\n",
    "plt.imshow(M,extent=[-2,10,-4,5]),plt.imshow(M,extent=[-2,10,-4,5])"
   ]
  },
  {
   "cell_type": "code",
   "execution_count": 5,
   "metadata": {},
   "outputs": [
    {
     "name": "stderr",
     "output_type": "stream",
     "text": [
      "C:\\Users\\Chris\\anaconda3\\lib\\site-packages\\ipykernel_launcher.py:8: ComplexWarning: Casting complex values to real discards the imaginary part\n",
      "  \n",
      "C:\\Users\\Chris\\anaconda3\\lib\\site-packages\\ipykernel_launcher.py:9: ComplexWarning: Casting complex values to real discards the imaginary part\n",
      "  if __name__ == '__main__':\n"
     ]
    },
    {
     "data": {
      "text/plain": [
       "<matplotlib.colorbar.Colorbar at 0x64dc56cfc8>"
      ]
     },
     "execution_count": 5,
     "metadata": {},
     "output_type": "execute_result"
    },
    {
     "data": {
      "image/png": "[encoded data removed]",
      "text/plain": [
       "<Figure size 432x288 with 2 Axes>"
      ]
     },
     "metadata": {
      "needs_background": "light"
     },
     "output_type": "display_data"
    }
   ],
   "source": [
    "# exercise.instructed\n",
    "a =1 \n",
    "b = range(-5,6)\n",
    "c = range(-2,11)\n",
    "\n",
    "M = np.zeros((len(b),len(c)))\n",
    "\n",
    "for bi in range(0,len(b)):\n",
    "    for ci in range(0,len(c)):\n",
    "        M[bi,ci] = quadeq(a,b[bi],c[ci])[0]\n",
    "        \n",
    "plt.imshow(M,extent=[c[0],c[-1],b[0],b[-1]])\n",
    "plt.xlabel('c')\n",
    "plt.ylabel('b')\n",
    "plt.title('a=' + str(a))\n",
    "plt.colorbar()\n",
    "# plt.show()\n",
    "\n",
    "        "
   ]
  }
 ],
 "metadata": {
  "kernelspec": {
   "display_name": "Python 3",
   "language": "python",
   "name": "python3"
  },
  "language_info": {
   "codemirror_mode": {
    "name": "ipython",
    "version": 3
   },
   "file_extension": ".py",
   "mimetype": "text/x-python",
   "name": "python",
   "nbconvert_exporter": "python",
   "pygments_lexer": "ipython3",
   "version": "3.7.6"
  }
 },
 "nbformat": 4,
 "nbformat_minor": 4
}
