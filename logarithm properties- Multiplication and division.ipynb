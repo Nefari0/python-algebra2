{
 "cells": [
  {
   "cell_type": "code",
   "execution_count": null,
   "metadata": {},
   "outputs": [],
   "source": [
    "#  multiplication property of log\n",
    "# log(a*b) = log(a) + log(b)\n",
    "\n",
    "# division property of log\n",
    "# log(a/b) = log(a) - log(b)\n",
    "\n"
   ]
  },
  {
   "cell_type": "code",
   "execution_count": 1,
   "metadata": {},
   "outputs": [],
   "source": [
    "from IPython.display import display, Math\n",
    "import numpy as np"
   ]
  },
  {
   "cell_type": "code",
   "execution_count": 10,
   "metadata": {},
   "outputs": [
    {
     "data": {
      "text/latex": [
       "$\\displaystyle \\log(3\\times4) = 2.48491$"
      ],
      "text/plain": [
       "<IPython.core.display.Math object>"
      ]
     },
     "metadata": {},
     "output_type": "display_data"
    },
    {
     "data": {
      "text/latex": [
       "$\\displaystyle \\log(3)\\times\\log(4) = 1.523$"
      ],
      "text/plain": [
       "<IPython.core.display.Math object>"
      ]
     },
     "metadata": {},
     "output_type": "display_data"
    },
    {
     "data": {
      "text/latex": [
       "$\\displaystyle \\log(3)\\ + \\log(4) = 2.48491$"
      ],
      "text/plain": [
       "<IPython.core.display.Math object>"
      ]
     },
     "metadata": {},
     "output_type": "display_data"
    },
    {
     "data": {
      "text/latex": [
       "$\\displaystyle \\log(3\\times4) = \\log(3)\\ + \\log(4)$"
      ],
      "text/plain": [
       "<IPython.core.display.Math object>"
      ]
     },
     "metadata": {},
     "output_type": "display_data"
    },
    {
     "data": {
      "text/latex": [
       "$\\displaystyle \\log(3\\times4) \\neq \\log(3)\\times\\log(4)$"
      ],
      "text/plain": [
       "<IPython.core.display.Math object>"
      ]
     },
     "metadata": {},
     "output_type": "display_data"
    }
   ],
   "source": [
    "a = 3\n",
    "b = 4\n",
    "\n",
    "res1 = np.log(a*b)\n",
    "res2 = np.log(a) * np.log(b)\n",
    "res3 = np.log(a) + np.log(b)\n",
    "\n",
    "display(Math('\\\\log(%g\\\\times%g) = %g' %(a,b,res1)))\n",
    "display(Math('\\\\log(%g)\\\\times\\\\log(%g) = %g' %(a,b,res2)))\n",
    "display(Math('\\\\log(%g)\\\\ + \\\\log(%g) = %g' %(a,b,res3)))\n",
    "\n",
    "display(Math('\\\\log(%g\\\\times%g) = \\\\log(%g)\\\\ + \\\\log(%g)' %(a,b,a,b)))\n",
    "display(Math('\\\\log(%g\\\\times%g) \\\\neq \\\\log(%g)\\\\times\\\\log(%g)' %(a,b,a,b)))"
   ]
  },
  {
   "cell_type": "code",
   "execution_count": 23,
   "metadata": {},
   "outputs": [
    {
     "data": {
      "text/latex": [
       "$\\displaystyle \\log \\left (\\frac{3}{4} \\right) = -0.287682$"
      ],
      "text/plain": [
       "<IPython.core.display.Math object>"
      ]
     },
     "metadata": {},
     "output_type": "display_data"
    },
    {
     "data": {
      "text/latex": [
       "$\\displaystyle \\log(3)\\ / \\log(4) = 0.792481$"
      ],
      "text/plain": [
       "<IPython.core.display.Math object>"
      ]
     },
     "metadata": {},
     "output_type": "display_data"
    },
    {
     "data": {
      "text/latex": [
       "$\\displaystyle \\log(3)\\ - \\log(4) = -0.287682$"
      ],
      "text/plain": [
       "<IPython.core.display.Math object>"
      ]
     },
     "metadata": {},
     "output_type": "display_data"
    },
    {
     "data": {
      "text/latex": [
       "$\\displaystyle \\log \\left (\\frac{3}{4} \\right) = \\log(3)\\ - \\log(4)$"
      ],
      "text/plain": [
       "<IPython.core.display.Math object>"
      ]
     },
     "metadata": {},
     "output_type": "display_data"
    },
    {
     "data": {
      "text/latex": [
       "$\\displaystyle \\log \\left (\\frac{3}{4} \\right) \\neq \\log(3)\\ / \\log(4)$"
      ],
      "text/plain": [
       "<IPython.core.display.Math object>"
      ]
     },
     "metadata": {},
     "output_type": "display_data"
    }
   ],
   "source": [
    "a = 3\n",
    "b = 4\n",
    "\n",
    "res1 = np.log(a/b)\n",
    "res2 = np.log(a) / np.log(b)\n",
    "res3 = np.log(a) - np.log(b)\n",
    "\n",
    "display(Math('\\\\log \\\\left (\\\\frac{%g}{%g} \\\\right) = %g' %(a,b,res1)))\n",
    "display(Math('\\\\log(%g)\\\\ / \\\\log(%g) = %g' %(a,b,res2)))\n",
    "display(Math('\\\\log(%g)\\\\ - \\\\log(%g) = %g' %(a,b,res3)))\n",
    "\n",
    "display(Math('\\\\log \\\\left (\\\\frac{%g}{%g} \\\\right) = \\\\log(%g)\\\\ - \\\\log(%g)' %(a,b,a,b)))\n",
    "display(Math('\\\\log \\\\left (\\\\frac{%g}{%g} \\\\right) \\\\neq \\\\log(%g)\\\\ / \\\\log(%g)' %(a,b,a,b)))"
   ]
  },
  {
   "cell_type": "code",
   "execution_count": 37,
   "metadata": {},
   "outputs": [
    {
     "data": {
      "text/latex": [
       "$\\displaystyle \\log(4^5) = 6.93147$"
      ],
      "text/plain": [
       "<IPython.core.display.Math object>"
      ]
     },
     "metadata": {},
     "output_type": "display_data"
    },
    {
     "data": {
      "text/latex": [
       "$\\displaystyle 5 \\times \\log(4) = 6.93147$"
      ],
      "text/plain": [
       "<IPython.core.display.Math object>"
      ]
     },
     "metadata": {},
     "output_type": "display_data"
    },
    {
     "data": {
      "text/latex": [
       "$\\displaystyle \\log \\left(4^5 \\right) = 5 \\times \\log(4)$"
      ],
      "text/plain": [
       "<IPython.core.display.Math object>"
      ]
     },
     "metadata": {},
     "output_type": "display_data"
    }
   ],
   "source": [
    "# exercise.independent\n",
    "a = 4\n",
    "b = 5\n",
    "\n",
    "\n",
    "resu1 = np.log(a**b)\n",
    "resu2 = b * np.log(a)\n",
    "\n",
    "display(Math('\\\\log(%g^%g) = %g' %(a,b,resu1)))\n",
    "display(Math('%g \\\\times \\\\log(%g) = %g' %(b,a,resu2)))\n",
    "display(Math('\\\\log \\\\left(%g^%g \\\\right) = %g \\\\times \\\\log(%g)' %(a,b,b,a)))"
   ]
  },
  {
   "cell_type": "code",
   "execution_count": 42,
   "metadata": {},
   "outputs": [
    {
     "name": "stdout",
     "output_type": "stream",
     "text": [
      "6.931471805599453\n",
      "6.931471805599453\n",
      "6.931471805599453\n"
     ]
    }
   ],
   "source": [
    "# exercise.instructed\n",
    "a = 4\n",
    "b = 5\n",
    "\n",
    "expr1 = np.log(a**b)\n",
    "expr2 = b*np.log(a)\n",
    "expr3 = np.log(a) + np.log(a) + np.log(a) + np.log(a) + np.log(a)\n",
    "\n",
    "print(expr1)\n",
    "print(expr2)\n",
    "print(expr3)"
   ]
  }
 ],
 "metadata": {
  "kernelspec": {
   "display_name": "Python 3",
   "language": "python",
   "name": "python3"
  },
  "language_info": {
   "codemirror_mode": {
    "name": "ipython",
    "version": 3
   },
   "file_extension": ".py",
   "mimetype": "text/x-python",
   "name": "python",
   "nbconvert_exporter": "python",
   "pygments_lexer": "ipython3",
   "version": "3.7.6"
  }
 },
 "nbformat": 4,
 "nbformat_minor": 4
}
