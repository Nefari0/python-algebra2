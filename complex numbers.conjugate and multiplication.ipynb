{
 "cells": [
  {
   "cell_type": "code",
   "execution_count": null,
   "metadata": {},
   "outputs": [],
   "source": [
    "# z = a bi\n",
    "# w = c di\n",
    "# [z*w = (a bi)*(c di)] = [ac + adi + cbi + bdi**2]\n",
    "# ---------------------\n",
    "# complex conjugate\n",
    "# if z is complex number, conjugate is indicated with z* \n",
    "# z = a + bi conjugate is z* = a - bi \n",
    "\n",
    "\n",
    "# z times z* = (a+bi)*(a-bi) "
   ]
  },
  {
   "cell_type": "code",
   "execution_count": 18,
   "metadata": {},
   "outputs": [],
   "source": [
    "import numpy as np\n",
    "import sympy as sym\n",
    "from IPython.display import display, Math"
   ]
  },
  {
   "cell_type": "code",
   "execution_count": 89,
   "metadata": {},
   "outputs": [
    {
     "data": {
      "text/latex": [
       "$\\displaystyle z \\times z^* = a^{2} + b^{2}$"
      ],
      "text/plain": [
       "<IPython.core.display.Math object>"
      ]
     },
     "metadata": {},
     "output_type": "display_data"
    }
   ],
   "source": [
    "a,b = sym.symbols('a,b',real=True)\n",
    "\n",
    "z = a + b*sym.I\n",
    "\n",
    "# sym.conjugate(z)\n",
    "display(Math('z \\\\times z^* = %s' %sym.latex(sym.expand(z * (sym.conjugate(z))))))"
   ]
  }
 ],
 "metadata": {
  "kernelspec": {
   "display_name": "Python 3",
   "language": "python",
   "name": "python3"
  },
  "language_info": {
   "codemirror_mode": {
    "name": "ipython",
    "version": 3
   },
   "file_extension": ".py",
   "mimetype": "text/x-python",
   "name": "python",
   "nbconvert_exporter": "python",
   "pygments_lexer": "ipython3",
   "version": "3.8.5"
  }
 },
 "nbformat": 4,
 "nbformat_minor": 4
}
