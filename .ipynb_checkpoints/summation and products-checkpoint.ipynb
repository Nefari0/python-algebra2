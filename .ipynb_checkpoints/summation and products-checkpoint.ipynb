{
 "cells": [
  {
   "cell_type": "code",
   "execution_count": 1,
   "metadata": {},
   "outputs": [],
   "source": [
    "# a = {1,3,4,1,6} =  "
   ]
  },
  {
   "cell_type": "code",
   "execution_count": 22,
   "metadata": {},
   "outputs": [],
   "source": [
    "import numpy as np\n",
    "import matplotlib.pyplot as plt\n",
    "from IPython.display import display,Math"
   ]
  },
  {
   "cell_type": "code",
   "execution_count": 5,
   "metadata": {},
   "outputs": [
    {
     "data": {
      "text/plain": [
       "15"
      ]
     },
     "execution_count": 5,
     "metadata": {},
     "output_type": "execute_result"
    }
   ],
   "source": [
    "lst = [1,3,4,1,6]\n",
    "\n",
    "sum(lst)\n"
   ]
  },
  {
   "cell_type": "code",
   "execution_count": 7,
   "metadata": {},
   "outputs": [
    {
     "data": {
      "text/plain": [
       "72"
      ]
     },
     "execution_count": 7,
     "metadata": {},
     "output_type": "execute_result"
    }
   ],
   "source": [
    "# product of list\n",
    "np.prod(lst)"
   ]
  },
  {
   "cell_type": "code",
   "execution_count": 17,
   "metadata": {},
   "outputs": [
    {
     "data": {
      "image/png": "[encoded data removed]",
      "text/plain": [
       "<Figure size 432x288 with 1 Axes>"
      ]
     },
     "metadata": {
      "needs_background": "light"
     },
     "output_type": "display_data"
    }
   ],
   "source": [
    "# cumulative sum\n",
    "np.cumsum(lst)\n",
    "\n",
    "plt.plot(lst,'rs-')\n",
    "plt.plot(np.cumsum(lst),'bs-')\n",
    "\n",
    "plt.legend(['set','cumulative sum'])\n",
    "plt.show()"
   ]
  },
  {
   "cell_type": "code",
   "execution_count": 37,
   "metadata": {},
   "outputs": [
    {
     "data": {
      "text/plain": [
       "0.06666666666666667"
      ]
     },
     "metadata": {},
     "output_type": "display_data"
    },
    {
     "data": {
      "text/plain": [
       "0.06666666666666667"
      ]
     },
     "metadata": {},
     "output_type": "display_data"
    },
    {
     "data": {
      "text/plain": [
       "0.008333333333333333"
      ]
     },
     "metadata": {},
     "output_type": "display_data"
    },
    {
     "data": {
      "text/plain": [
       "0.008333333333333333"
      ]
     },
     "metadata": {},
     "output_type": "display_data"
    }
   ],
   "source": [
    "# exercise 1 independent\n",
    "\n",
    "a = [1,2,3,4,5]\n",
    "\n",
    "sum_a = np.sum(a)\n",
    "prod_a = np.prod(a)\n",
    "\n",
    "display(sum_a/sum_a**2)\n",
    "display(1/sum_a)\n",
    "\n",
    "display(prod_a/prod_a**2)\n",
    "display(1/prod_a)\n",
    "\n"
   ]
  },
  {
   "cell_type": "code",
   "execution_count": 43,
   "metadata": {},
   "outputs": [
    {
     "name": "stdout",
     "output_type": "stream",
     "text": [
      "Option 1 = 0.2727272727272727\n",
      "Option 2 = 0.06666666666666667\n"
     ]
    }
   ],
   "source": [
    "# exercise.instructed\n",
    "# sumation\n",
    "\n",
    "a = np.arange(1,6)\n",
    "suma = np.sum(a)\n",
    "suma2 = np.sum(a**2)\n",
    "\n",
    "ans1 = suma / suma2\n",
    "ans2 = 1 / suma\n",
    "\n",
    "print( 'Option 1 = %s' %ans1)\n",
    "print( 'Option 2 = %s' %ans2)"
   ]
  },
  {
   "cell_type": "code",
   "execution_count": 46,
   "metadata": {},
   "outputs": [
    {
     "name": "stdout",
     "output_type": "stream",
     "text": [
      "Option 1 = 0.008333333333333333\n",
      "Option 2 = 0.008333333333333333\n"
     ]
    }
   ],
   "source": [
    "# products\n",
    "\n",
    "a = np.arange(1,6)\n",
    "\n",
    "proda = np.prod(a)\n",
    "proda2 = np.prod(a**2)\n",
    "\n",
    "ans1 = proda / proda2\n",
    "ans2 = 1 / proda\n",
    "\n",
    "print( 'Option 1 = %s' %ans1)\n",
    "print( 'Option 2 = %s' %ans2)"
   ]
  }
 ],
 "metadata": {
  "kernelspec": {
   "display_name": "Python 3",
   "language": "python",
   "name": "python3"
  },
  "language_info": {
   "codemirror_mode": {
    "name": "ipython",
    "version": 3
   },
   "file_extension": ".py",
   "mimetype": "text/x-python",
   "name": "python",
   "nbconvert_exporter": "python",
   "pygments_lexer": "ipython3",
   "version": "3.7.6"
  }
 },
 "nbformat": 4,
 "nbformat_minor": 4
}
