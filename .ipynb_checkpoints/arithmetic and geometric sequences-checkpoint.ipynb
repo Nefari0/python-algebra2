{
 "cells": [
  {
   "cell_type": "code",
   "execution_count": null,
   "metadata": {},
   "outputs": [],
   "source": [
    "# a sequence is an ordered list of numbers\n",
    "\n",
    "# example of arithmetic sequence: a(subscript(n)) = a(subscript(0)) + d(n-1)\n",
    "\n",
    "# example of geometric sequence: g(sub(n)) = g(sub(0))*r**(n-1)"
   ]
  },
  {
   "cell_type": "code",
   "execution_count": 1,
   "metadata": {},
   "outputs": [],
   "source": [
    "import numpy as np\n",
    "import matplotlib.pyplot as plt"
   ]
  },
  {
   "cell_type": "code",
   "execution_count": 33,
   "metadata": {},
   "outputs": [],
   "source": [
    "# parameters\n",
    "a =2\n",
    "d = 3\n",
    "r = 3\n",
    "maxn = 6"
   ]
  },
  {
   "cell_type": "code",
   "execution_count": 36,
   "metadata": {},
   "outputs": [
    {
     "name": "stdout",
     "output_type": "stream",
     "text": [
      "[ 2  5  8 11 14 17]\n"
     ]
    }
   ],
   "source": [
    "# arithmetic sequence\n",
    "a =2\n",
    "d = 3\n",
    "r = 3\n",
    "maxn = 6\n",
    "\n",
    "ariseq = a + d*np.arange(0,maxn)\n",
    "print(ariseq)"
   ]
  },
  {
   "cell_type": "code",
   "execution_count": 37,
   "metadata": {},
   "outputs": [
    {
     "name": "stdout",
     "output_type": "stream",
     "text": [
      "[  2   6  18  54 162 486]\n"
     ]
    }
   ],
   "source": [
    "# geometric sequence\n",
    "a =2\n",
    "d = 3\n",
    "r = 3\n",
    "maxn = 6\n",
    "\n",
    "geoseq = a * r**np.arange(0,maxn)\n",
    "print(geoseq)"
   ]
  },
  {
   "cell_type": "code",
   "execution_count": 35,
   "metadata": {},
   "outputs": [
    {
     "data": {
      "image/png": "[encoded data removed]",
      "text/plain": [
       "<Figure size 432x288 with 1 Axes>"
      ]
     },
     "metadata": {
      "needs_background": "light"
     },
     "output_type": "display_data"
    }
   ],
   "source": [
    "# plotting both sequences\n",
    "plt.plot(ariseq, 'ks',label='arithmetic')\n",
    "plt.plot(geoseq, 'ro',label='geometric')\n",
    "\n",
    "plt.legend()\n",
    "plt.show()"
   ]
  },
  {
   "cell_type": "code",
   "execution_count": 32,
   "metadata": {},
   "outputs": [
    {
     "name": "stdout",
     "output_type": "stream",
     "text": [
      "17\n",
      "17\n",
      "486\n",
      "486\n"
     ]
    }
   ],
   "source": [
    "# exercise.independent\n",
    "print(a + d*5)\n",
    "print(ariseq[5])\n",
    "print(a * r**5)\n",
    "print(geoseq[5])"
   ]
  },
  {
   "cell_type": "code",
   "execution_count": 44,
   "metadata": {},
   "outputs": [
    {
     "name": "stdout",
     "output_type": "stream",
     "text": [
      "17 17\n",
      "486 486\n"
     ]
    }
   ],
   "source": [
    "# exercise.instructed\n",
    "a =2\n",
    "d = 3\n",
    "# r = 3\n",
    "maxn = 10\n",
    "nth = 6\n",
    "\n",
    "# compute the sequences\n",
    "ariseq = a + d*np.arange(0,maxn)\n",
    "geoseq = a * d**np.arange(0,maxn)\n",
    "\n",
    "# direct compution\n",
    "ariDirect = a + d*(nth-1)\n",
    "geoDirect = a * d**(nth-1)\n",
    "\n",
    "print(ariDirect,ariseq[nth-1])\n",
    "print(geoDirect,geoseq[nth-1])"
   ]
  },
  {
   "cell_type": "code",
   "execution_count": 42,
   "metadata": {},
   "outputs": [
    {
     "name": "stdout",
     "output_type": "stream",
     "text": [
      "6\n"
     ]
    }
   ],
   "source": [
    "# experimental\n",
    "print(nth)"
   ]
  }
 ],
 "metadata": {
  "kernelspec": {
   "display_name": "Python 3",
   "language": "python",
   "name": "python3"
  },
  "language_info": {
   "codemirror_mode": {
    "name": "ipython",
    "version": 3
   },
   "file_extension": ".py",
   "mimetype": "text/x-python",
   "name": "python",
   "nbconvert_exporter": "python",
   "pygments_lexer": "ipython3",
   "version": "3.7.6"
  }
 },
 "nbformat": 4,
 "nbformat_minor": 4
}
