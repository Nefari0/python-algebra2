{
 "cells": [
  {
   "cell_type": "code",
   "execution_count": null,
   "metadata": {},
   "outputs": [],
   "source": [
    "# adding z = abi and w = cdi\n",
    "# z+w = (a+c)(b+d)i\n",
    "# subtracting z = abi and w = cdi\n",
    "# z-w = (a-c)(b-d)i"
   ]
  },
  {
   "cell_type": "code",
   "execution_count": 2,
   "metadata": {},
   "outputs": [],
   "source": [
    "import numpy as np\n",
    "import sympy as sym"
   ]
  },
  {
   "cell_type": "code",
   "execution_count": 24,
   "metadata": {},
   "outputs": [
    {
     "name": "stdout",
     "output_type": "stream",
     "text": [
      "(4-5j) (4-5j)\n"
     ]
    }
   ],
   "source": [
    "# two ways of using complex numbers\n",
    "real_part = 4\n",
    "imag_part = -5\n",
    "\n",
    "cn1 = np.complex(real_part,imag_part)\n",
    "cn2 = real_part + 1j*imag_part\n",
    "\n",
    "print(cn1,cn2)"
   ]
  },
  {
   "cell_type": "code",
   "execution_count": 30,
   "metadata": {},
   "outputs": [
    {
     "name": "stdout",
     "output_type": "stream",
     "text": [
      "(7+7j)\n",
      "(1+3j)\n"
     ]
    },
    {
     "data": {
      "text/plain": [
       "5.0"
      ]
     },
     "execution_count": 30,
     "metadata": {},
     "output_type": "execute_result"
    }
   ],
   "source": [
    "# creates complex numbers\n",
    "z1 = np.complex(4,5)\n",
    "z2 = np.complex(3,2)\n",
    "\n",
    "print(z1 + z2)\n",
    "print(z1 - z2)\n",
    "\n",
    "# extracts complex numbers\n",
    "np.real(z1) # real part\n",
    "np.imag(z1) # imaginary part"
   ]
  },
  {
   "cell_type": "code",
   "execution_count": 39,
   "metadata": {},
   "outputs": [
    {
     "name": "stdout",
     "output_type": "stream",
     "text": [
      "(7+10j)\n",
      "(7+10j)\n"
     ]
    }
   ],
   "source": [
    "\n",
    "w = np.complex(2,4)\n",
    "z = np.complex(5,6)\n",
    "\n",
    "realsum = np.real(w) + np.real(z)\n",
    "imagsum = np.imag(w) + np.imag(z)\n",
    "\n",
    "wPlusZ_seperate = np.complex(realsum,imagsum)\n",
    "wPlusZ_direct = w+z\n",
    "\n",
    "print(wPlusZ_seperate)\n",
    "print(wPlusZ_direct)"
   ]
  }
 ],
 "metadata": {
  "kernelspec": {
   "display_name": "Python 3",
   "language": "python",
   "name": "python3"
  },
  "language_info": {
   "codemirror_mode": {
    "name": "ipython",
    "version": 3
   },
   "file_extension": ".py",
   "mimetype": "text/x-python",
   "name": "python",
   "nbconvert_exporter": "python",
   "pygments_lexer": "ipython3",
   "version": "3.8.5"
  }
 },
 "nbformat": 4,
 "nbformat_minor": 4
}
