{
 "cells": [
  {
   "cell_type": "code",
   "execution_count": 3,
   "metadata": {},
   "outputs": [],
   "source": [
    "import numpy as np\n",
    "import sympy as sym\n",
    "from IPython.display import display, Math"
   ]
  },
  {
   "cell_type": "code",
   "execution_count": 2,
   "metadata": {},
   "outputs": [],
   "source": [
    "# complex conjugate trick\n",
    "# to divide complex numbers, multiply numerator and\n",
    "# denominator by complex conjugate of numerator\n",
    "# ie:\n",
    "# 4+2i/2-3i = (4+2i)*(2+3i) / (2-3i)*(2+3i)\n"
   ]
  },
  {
   "cell_type": "code",
   "execution_count": 5,
   "metadata": {},
   "outputs": [
    {
     "data": {
      "text/latex": [
       "$\\displaystyle \\frac{(4+2j)}{2} = (2+1j)$"
      ],
      "text/plain": [
       "<IPython.core.display.Math object>"
      ]
     },
     "metadata": {},
     "output_type": "display_data"
    }
   ],
   "source": [
    "z = np.complex(4,2)\n",
    "display(Math('\\\\frac{%s}{2} = %s' % (z,z/2)))"
   ]
  },
  {
   "cell_type": "code",
   "execution_count": 12,
   "metadata": {},
   "outputs": [
    {
     "data": {
      "text/latex": [
       "$\\displaystyle \\frac{(4+2j)}{(2-3j)} = \\frac{(4+2j)\\times (2+3j)}{(2-3j)\\times (2+3j)} = 0.153846153846154 + 1.23076923076923 i$"
      ],
      "text/plain": [
       "<IPython.core.display.Math object>"
      ]
     },
     "metadata": {},
     "output_type": "display_data"
    }
   ],
   "source": [
    "z1 = np.complex(4,2)\n",
    "z2 = np.complex(2,-3)\n",
    "\n",
    "display(Math('\\\\frac{%s}{%s} = \\\\frac{%s\\\\times %s}{%s\\\\times %s} = %s' \\\n",
    "             %(z1,z2,z1,np.conj(z2),z2,np.conj(z2),sym.latex(sym.sympify(z1/z2 \\\n",
    "              )))))"
   ]
  },
  {
   "cell_type": "code",
   "execution_count": 41,
   "metadata": {},
   "outputs": [
    {
     "data": {
      "text/latex": [
       "$\\displaystyle \\frac{(z - 1)(zw + w)}{(wz - w)} \\times \\frac{(w - 1)(1 - w)}{-zw^2 - w^2 + 2wz + 2w - z - 1}$"
      ],
      "text/plain": [
       "<IPython.core.display.Math object>"
      ]
     },
     "metadata": {},
     "output_type": "display_data"
    },
    {
     "data": {
      "text/latex": [
       "$\\displaystyle \\frac{(4+2j) - 1(4+2j)(3+5j) + (3+5j)}{(3+5j)(4+2j) - (3+5j)}              \\times \\frac{((3+5j) - 1)(1 - (3+5j))}{-(4+2j)(3+5j)^2 -              (3+5j)^2 + 2(3+5j)(4+2j) + 2(3+5j) - (4+2j) - 1}$"
      ],
      "text/plain": [
       "<IPython.core.display.Math object>"
      ]
     },
     "metadata": {},
     "output_type": "display_data"
    }
   ],
   "source": [
    "# exercise.independent.experimental\n",
    "# w,z = sym.symbols('w,z')\n",
    "w = np.complex(3,5)\n",
    "z = np.complex(4,2)\n",
    "\n",
    "expr1 = ((z - 1)*(z*w + w)) / (w*z - w)\n",
    "display(Math('\\\\frac{(z - 1)(zw + w)}{(wz - w)} \\\\times \\\\frac{(w - 1)(1 - w)}{-zw^2 - w^2 + 2wz + 2w - z - 1}'))\n",
    "display(Math('\\\\frac{%s - 1%s%s + %s}{%s%s - %s} \\\n",
    "             \\\\times \\\\frac{(%s - 1)(1 - %s)}{-%s%s^2 - \\\n",
    "             %s^2 + 2%s%s + 2%s - %s - 1}' %(z,z,w,w,w,z,w,w,w,z,w,w,w,z,w,z)))"
   ]
  },
  {
   "cell_type": "code",
   "execution_count": 135,
   "metadata": {},
   "outputs": [
    {
     "data": {
      "text/latex": [
       "$\\displaystyle (-2.0 - 5.0*I)*(2.0 + 5.0*I)/(1.0 - (3.0 + 5.0*I)**2*(4.0 + 2.0*I) - (3.0 + 5.0*I)**2 + 8.0*I + 2*(3.0 + 5.0*I)*(4.0 + 2.0*I))$"
      ],
      "text/plain": [
       "<IPython.core.display.Math object>"
      ]
     },
     "metadata": {},
     "output_type": "display_data"
    }
   ],
   "source": [
    "# exercise.independent\n",
    "w,z = sym.symbols('w,z')\n",
    "zi = np.complex(4,2)\n",
    "wi = np.complex(3,5)\n",
    "\n",
    "expr1 = (z-1)*(z*w + w) / (w*z - w)\n",
    "expr2 = (w - 1)*(1 - w) / (- z*w**2 - w**2 + 2*w*z + 2*w - z - 1)\n",
    "expr1subs = expr1.subs({z:zi,w:wi})\n",
    "expr2subs = expr2.subs({z:zi,w:wi})\n",
    "# display(sym.simplify(expr1subs*expr2subs))\n",
    "# display(Math('%s \\\\times %s' %(sym.latex(expr1subs),sym.latex(expr2subs))))\n",
    "\n",
    "display(Math('%s'%sym.sympify(expr2subs)))\n",
    "# display(expr2subs)\n"
   ]
  },
  {
   "cell_type": "code",
   "execution_count": 125,
   "metadata": {},
   "outputs": [
    {
     "data": {
      "text/latex": [
       "$\\displaystyle (z - 1)*(w*z + w)/(w*z - w) \\times (1 - w)*(w - 1)/(-w**2*z - w**2 + 2*w*z + 2*w - z - 1)$"
      ],
      "text/plain": [
       "<IPython.core.display.Math object>"
      ]
     },
     "metadata": {},
     "output_type": "display_data"
    }
   ],
   "source": [
    "display(Math('%s \\\\times %s' %(sym.sympify(expr1),sym.sympify(expr2))))"
   ]
  },
  {
   "cell_type": "code",
   "execution_count": 144,
   "metadata": {},
   "outputs": [
    {
     "data": {
      "text/latex": [
       "$\\displaystyle (1+0j)$"
      ],
      "text/plain": [
       "<IPython.core.display.Math object>"
      ]
     },
     "metadata": {},
     "output_type": "display_data"
    }
   ],
   "source": [
    "# exercise.instructed\n",
    "z = np.complex(4,2)\n",
    "w = np.complex(3,5)\n",
    "\n",
    "left_numer = (z-1) * (z*w+w)\n",
    "left_denom = w*z - w\n",
    "left_part = left_numer / left_denom\n",
    "\n",
    "right_numer = (w-1)*(1-w)\n",
    "right_denom = -z*w**2 - w**2 + 2*w*z + 2*w - z - 1\n",
    "right_part = right_numer / right_denom\n",
    "\n",
    "solution = left_part * right_part\n",
    "\n",
    "display(Math('%s' %solution))"
   ]
  },
  {
   "cell_type": "code",
   "execution_count": 154,
   "metadata": {},
   "outputs": [
    {
     "data": {
      "text/latex": [
       "$\\displaystyle \\frac{\\left(1 - w\\right) \\left(w - 1\\right) \\left(z - 1\\right) \\left(w z + w\\right)}{\\left(w z - w\\right) \\left(- w^{2} z - w^{2} + 2 w z + 2 w - z - 1\\right)}$"
      ],
      "text/plain": [
       "(1 - w)*(w - 1)*(z - 1)*(w*z + w)/((w*z - w)*(-w**2*z - w**2 + 2*w*z + 2*w - z - 1))"
      ]
     },
     "metadata": {},
     "output_type": "display_data"
    },
    {
     "data": {
      "text/latex": [
       "$\\displaystyle w = (3+5j) \\quad z = (4+2j)$"
      ],
      "text/plain": [
       "<IPython.core.display.Math object>"
      ]
     },
     "metadata": {},
     "output_type": "display_data"
    }
   ],
   "source": [
    "# the expression displayed\n",
    "w,z = sym.symbols('w,z')\n",
    "zv = np.complex(4,2)\n",
    "wv = np.complex(3,5)\n",
    "\n",
    "left_numer = (z-1) * (z*w+w)\n",
    "left_denom = w*z - w\n",
    "left_part = left_numer / left_denom\n",
    "\n",
    "right_numer = (w-1)*(1-w)\n",
    "right_denom = -z*w**2 - w**2 + 2*w*z + 2*w - z - 1\n",
    "right_part = right_numer / right_denom\n",
    "\n",
    "solution = left_part * right_part\n",
    "\n",
    "display(solution)\n",
    "display(Math('w = %s \\\\quad z = %s' %(wi,zi)))"
   ]
  }
 ],
 "metadata": {
  "kernelspec": {
   "display_name": "Python 3",
   "language": "python",
   "name": "python3"
  },
  "language_info": {
   "codemirror_mode": {
    "name": "ipython",
    "version": 3
   },
   "file_extension": ".py",
   "mimetype": "text/x-python",
   "name": "python",
   "nbconvert_exporter": "python",
   "pygments_lexer": "ipython3",
   "version": "3.7.6"
  }
 },
 "nbformat": 4,
 "nbformat_minor": 4
}
