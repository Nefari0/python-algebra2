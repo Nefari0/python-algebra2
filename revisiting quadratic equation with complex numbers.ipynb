{
 "cells": [
  {
   "cell_type": "code",
   "execution_count": 1,
   "metadata": {},
   "outputs": [],
   "source": [
    "import numpy as np\n",
    "import sympy as sym\n",
    "import scipy as sp\n",
    "import matplotlib.pyplot as plt"
   ]
  },
  {
   "cell_type": "code",
   "execution_count": 2,
   "metadata": {},
   "outputs": [],
   "source": [
    "def quadeq(a,b,c):\n",
    "    \n",
    "    # initialize\n",
    "    out = np.zeros(2)\n",
    "    \n",
    "    # compute\n",
    "    out[0] = (- b + np.lib.scimath.sqrt(b**2 - 4*a*c)) / (2*a)\n",
    "    out[1] = (- b - np.lib.scimath.sqrt(b**2 - 4*a*c)) / (2*a)\n",
    "    \n",
    "    return(out)\n",
    "#     print(out[0],out[1])"
   ]
  },
  {
   "cell_type": "code",
   "execution_count": 3,
   "metadata": {},
   "outputs": [
    {
     "name": "stderr",
     "output_type": "stream",
     "text": [
      "<ipython-input-2-e1d012a79c18>:7: ComplexWarning: Casting complex values to real discards the imaginary part\n",
      "  out[0] = (- b + np.lib.scimath.sqrt(b**2 - 4*a*c)) / (2*a)\n",
      "<ipython-input-2-e1d012a79c18>:8: ComplexWarning: Casting complex values to real discards the imaginary part\n",
      "  out[1] = (- b - np.lib.scimath.sqrt(b**2 - 4*a*c)) / (2*a)\n"
     ]
    },
    {
     "data": {
      "image/png": "[encoded data removed]",
      "text/plain": [
       "<Figure size 432x288 with 2 Axes>"
      ]
     },
     "metadata": {
      "needs_background": "light"
     },
     "output_type": "display_data"
    }
   ],
   "source": [
    "# using numpy\n",
    "a =1 \n",
    "b = range(-5,6)\n",
    "c = range(-2,11)\n",
    "\n",
    "# M = np.zeros((len(b),len(c)))\n",
    "# M = np.zeros((len(b),len(c)),dtype=complex) # represents complex numbers\n",
    "M = np.zeros((len(b),len(c)),dtype=complex)\n",
    "\n",
    "for bi in range(0,len(b)):\n",
    "    for ci in range(0,len(c)):\n",
    "        M[bi,ci] = quadeq(a,b[bi],c[ci])[0]\n",
    "        \n",
    "plt.imshow(np.imag(M),extent=[c[0],c[-1],b[0],b[-1]])\n",
    "plt.xlabel('c')\n",
    "plt.ylabel('b')\n",
    "plt.title('a=' + str(a))\n",
    "plt.colorbar()\n",
    "plt.show()\n"
   ]
  }
 ],
 "metadata": {
  "kernelspec": {
   "display_name": "Python 3",
   "language": "python",
   "name": "python3"
  },
  "language_info": {
   "codemirror_mode": {
    "name": "ipython",
    "version": 3
   },
   "file_extension": ".py",
   "mimetype": "text/x-python",
   "name": "python",
   "nbconvert_exporter": "python",
   "pygments_lexer": "ipython3",
   "version": "3.8.5"
  }
 },
 "nbformat": 4,
 "nbformat_minor": 4
}
